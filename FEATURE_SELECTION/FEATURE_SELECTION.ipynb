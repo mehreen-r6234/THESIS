{
 "cells": [
  {
   "cell_type": "code",
   "execution_count": 1,
   "metadata": {},
   "outputs": [],
   "source": [
    "from numpy import loadtxt\n",
    "import pandas as pd\n",
    "from xgboost import XGBClassifier\n",
    "from sklearn.model_selection import train_test_split\n",
    "from sklearn.metrics import accuracy_score"
   ]
  },
  {
   "cell_type": "code",
   "execution_count": 2,
   "metadata": {},
   "outputs": [],
   "source": [
    "tr_1 = pd.read_table(\"fin_shuf_c_nc\", encoding='utf-8', engine='python')\n",
    "tr_2 = pd.read_table(\"shuf_tot_train_lncFinder\", encoding='utf-8', engine='python')\n",
    "tr_3 = pd.read_table(\"shuf_total_train_human_mouse\", encoding='utf-8', engine='python')"
   ]
  },
  {
   "cell_type": "code",
   "execution_count": 5,
   "metadata": {},
   "outputs": [],
   "source": [
    "tot = tr_1.append(tr_2, ignore_index=True)\n",
    "tot = tot.append(tr_3, ignore_index=True)\n",
    "tot = tot.drop(['#ID'], axis = 1)"
   ]
  },
  {
   "cell_type": "code",
   "execution_count": 9,
   "metadata": {},
   "outputs": [],
   "source": [
    "tot_model = pd.get_dummies(tot)"
   ]
  },
  {
   "cell_type": "code",
   "execution_count": 11,
   "metadata": {},
   "outputs": [],
   "source": [
    "model = XGBClassifier(\n",
    " learning_rate =0.1,\n",
    " n_estimators=1000,\n",
    " max_depth=5,\n",
    " min_child_weight=1,\n",
    " gamma=0,\n",
    " subsample=0.8,\n",
    " colsample_bytree=0.8,\n",
    " objective= 'binary:logistic',\n",
    " nthread=4,\n",
    " scale_pos_weight=1,\n",
    " seed=27)"
   ]
  },
  {
   "cell_type": "code",
   "execution_count": 12,
   "metadata": {},
   "outputs": [],
   "source": [
    "prot_feat = ['instability', 'gravy', 'Mw', 'pI', 'PW', 'peptide_length']\n",
    "rna_feat = ['ORF_coverage', 'ORF_integrity', 'GC1', 'GC2', 'GC3']\n",
    "dna_feat = ['transcript_length', 'stop_codon_num', 'Fickett_score']\n",
    "\n",
    "label = ['#label_noncoding']\n",
    "\n",
    "\n",
    "\n",
    "y_train = tot_model[label]\n",
    "\n",
    "x_prot_train = tot[prot_feat]\n",
    "x_rna_train = tot[rna_feat]\n",
    "x_dna_train = tot[dna_feat]\n",
    "\n",
    "final_feats = []\n",
    "\n",
    "f_test = ['transcript_length', 'Fickett_score', 'ORF_coverage', 'ORF_integrity', 'GC1', 'GC2', 'GC3', 'stop_codon_num', 'instability', 'gravy', 'pI', 'Mw', 'PW']\n",
    "l_test = ['#label_noncoding']"
   ]
  },
  {
   "cell_type": "code",
   "execution_count": 14,
   "metadata": {},
   "outputs": [
    {
     "name": "stdout",
     "output_type": "stream",
     "text": [
      "['transcript_length', 'stop_codon_num']\n"
     ]
    }
   ],
   "source": [
    "from sklearn.feature_selection import SelectKBest\n",
    "from sklearn.feature_selection import chi2\n",
    "chi_2 = SelectKBest(chi2, k=2)\n",
    "chi_dna = chi_2.fit(x_dna_train, y_train)\n",
    "k = chi_dna.get_support()\n",
    "#print(x_dna_train[1])\n",
    "for i in range(0, len(k)):\n",
    "    if(k[i]==True):\n",
    "        final_feats.append(dna_feat[i])\n",
    "print(final_feats)"
   ]
  },
  {
   "cell_type": "code",
   "execution_count": 15,
   "metadata": {},
   "outputs": [
    {
     "name": "stderr",
     "output_type": "stream",
     "text": [
      "/home/thesis/anaconda3/envs/py27/lib/python2.7/site-packages/sklearn/utils/validation.py:761: DataConversionWarning: A column-vector y was passed when a 1d array was expected. Please change the shape of y to (n_samples, ), for example using ravel().\n",
      "  y = column_or_1d(y, warn=True)\n"
     ]
    },
    {
     "name": "stdout",
     "output_type": "stream",
     "text": [
      "['transcript_length', 'stop_codon_num', 'gravy', 'Mw', 'pI']\n"
     ]
    }
   ],
   "source": [
    "from sklearn.feature_selection import RFE\n",
    "#for protein, rfe\n",
    "rfe = RFE(model, 3)\n",
    "rfe_prot = rfe.fit(x_prot_train, y_train)\n",
    "k = rfe_prot.get_support()\n",
    "#print(x_dna_train[1])\n",
    "for i in range(0, len(k)):\n",
    "    if(k[i]==True):\n",
    "        #print(\"i is %d\"%i)\n",
    "        #print(\"feature is \" + x_dna_train[i])\n",
    "        final_feats.append(prot_feat[i])\n",
    "print(final_feats)"
   ]
  },
  {
   "cell_type": "code",
   "execution_count": 16,
   "metadata": {},
   "outputs": [
    {
     "name": "stdout",
     "output_type": "stream",
     "text": [
      "['transcript_length', 'stop_codon_num', 'gravy', 'Mw', 'pI', 'GC1', 'GC2', 'GC3']\n"
     ]
    }
   ],
   "source": [
    "#for rna_feats, rfe\n",
    "#rfe = RFECV(model, min_features_to_select=3, cv=5)\n",
    "rfe = RFE(model, 3)\n",
    "rfe_rna = rfe.fit(x_rna_train, y_train)\n",
    "k = rfe_rna.get_support()\n",
    "#print(x_dna_train[1])\n",
    "for i in range(0, len(k)):\n",
    "    if(k[i]==True):\n",
    "        #print(\"i is %d\"%i)\n",
    "        #print(\"feature is \" + x_dna_train[i])\n",
    "        final_feats.append(rna_feat[i])\n",
    "print(final_feats)"
   ]
  },
  {
   "cell_type": "code",
   "execution_count": 19,
   "metadata": {},
   "outputs": [],
   "source": [
    "x_fin_feats_train = tot[final_feats]"
   ]
  },
  {
   "cell_type": "code",
   "execution_count": 20,
   "metadata": {},
   "outputs": [
    {
     "name": "stdout",
     "output_type": "stream",
     "text": [
      "['gravy', 'Mw', 'pI', 'GC2', 'Fickett_score']\n"
     ]
    }
   ],
   "source": [
    "#for the final feats, another rfe and select 5 best feats\n",
    "fin_fin_feats = []\n",
    "#rfe = RFECV(model, min_features_to_select=4, cv=5)\n",
    "rfe = RFE(model, 4)\n",
    "rfe_rna = rfe.fit(x_fin_feats_train, y_train)\n",
    "k = rfe_rna.get_support()\n",
    "#print(x_dna_train[1])\n",
    "for i in range(0, len(k)):\n",
    "    if(k[i]==True):\n",
    "        #print(\"i is %d\"%i)\n",
    "        #print(\"feature is \" + x_dna_train[i])\n",
    "        fin_fin_feats.append(final_feats[i])\n",
    "\n",
    "\n",
    "fin_fin_feats.append('Fickett_score')\n",
    "#fin_fin_feats.append('ORF_coverage')\n",
    "print fin_fin_feats"
   ]
  },
  {
   "cell_type": "code",
   "execution_count": null,
   "metadata": {},
   "outputs": [],
   "source": [
    "tr_1 = ['instability', 'gravy', 'pI', 'ORF_coverage', 'Fickett_score']\n",
    "tr_2 = ['gravy', 'Mw', 'GC1', 'GC2', 'Fickett_score']\n",
    "tr_3 = ['instability', 'Mw', 'pI', 'GC2', 'Fickett_score']"
   ]
  }
 ],
 "metadata": {
  "kernelspec": {
   "display_name": "Python 2",
   "language": "python",
   "name": "python2"
  },
  "language_info": {
   "codemirror_mode": {
    "name": "ipython",
    "version": 2
   },
   "file_extension": ".py",
   "mimetype": "text/x-python",
   "name": "python",
   "nbconvert_exporter": "python",
   "pygments_lexer": "ipython2",
   "version": "2.7.15"
  }
 },
 "nbformat": 4,
 "nbformat_minor": 2
}
